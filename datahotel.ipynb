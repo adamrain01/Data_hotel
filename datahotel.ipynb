{
  "nbformat": 4,
  "nbformat_minor": 0,
  "metadata": {
    "colab": {
      "name": "datahotel.ipynb",
      "provenance": []
    },
    "kernelspec": {
      "name": "python3",
      "display_name": "Python 3"
    },
    "language_info": {
      "name": "python"
    }
  },
  "cells": [
    {
      "cell_type": "code",
      "execution_count": 4,
      "metadata": {
        "id": "ojtKliWeen1y"
      },
      "outputs": [],
      "source": [
        "# Import necessary packages\n",
        "import pandas as pd\n",
        "import requests\n",
        "from bs4 import BeautifulSoup\n",
        "import numpy as np"
      ]
    },
    {
      "cell_type": "code",
      "source": [
        "# Save the data\n",
        "name_total = []\n",
        "location_total = []\n",
        "rating_total = []\n",
        "impression_total = []\n",
        "price_total = []\n",
        "description_total = []\n",
        "img_total = []\n",
        "\n",
        "\n",
        "for i in range(1, 21):\n",
        "    # Set the url\n",
        "    url = f'https://www.tiket.com/hotel/indonesia/city/yogyakarta-108001534490276494'\n",
        "\n",
        "    # Set the headers\n",
        "    headers = {\n",
        "        'User-Agent': 'Mozilla/5.0 (Windows NT 10.0; Win64; x64) AppleWebKit/537.36 (KHTML, like Gecko) Chrome/96.0.4664.110 Safari/537.36'\n",
        "    }\n",
        "\n",
        "    # Get response using requests.get()\n",
        "    r = requests.get(url, headers=headers)\n",
        "\n",
        "    # Parse the text using BeautifulSoup\n",
        "    soup = BeautifulSoup(r.text, 'html.parser')\n",
        "\n",
        "    # Make items\n",
        "    items = soup.find_all('div', {'class':'card-frame'})\n",
        "\n",
        "    for it in items:\n",
        "        # Get the name\n",
        "        name = it.find('h3', {'class':'title ellipsis'}).text\n",
        "        name_total.append(name)\n",
        "        # Get the location\n",
        "        loc = it.find('div', {'class':'location ellipsis'}).text.split(',')[0]\n",
        "        location_total.append(loc)\n",
        "        # Get the rating\n",
        "        try:\n",
        "            rating = float(it.find('div', {'class':'tiket-rating'}).text)\n",
        "        except:\n",
        "            rating = np.nan\n",
        "        rating_total.append(rating)\n",
        "        # Get the impression\n",
        "        try:\n",
        "            impression = it.find('div', {'class':'rating'}).find('div', {'class':'tiket-impression'}).text\n",
        "        except:\n",
        "            impression = ''\n",
        "        impression_total.append(impression)\n",
        "        # Get the price\n",
        "        try:\n",
        "            price = int(''.join(it.find('div', {'class':'price-wrap'}).find('div', {'class':'after-price'}).text.split('IDR ')[-1].split('.')))\n",
        "        except:\n",
        "            price = np.nan\n",
        "        price_total.append(price)\n",
        "        # Get the description\n",
        "        try:\n",
        "            description = it.find('div', {'class':'description'}).find('div', {'class':'line-clamp-2 description-content'}).text\n",
        "        except:\n",
        "            description = ''\n",
        "        description_total.append(description)\n",
        "        # Get the images link\n",
        "        try:\n",
        "            img = it.find('div', {'class':'image-wrap'}).find('img')['src']\n",
        "        except:\n",
        "            img = ''\n",
        "        img_total.append(img)\n",
        "    \n",
        "    print(f'Response: {r.status_code} for page: {i}')"
      ],
      "metadata": {
        "colab": {
          "base_uri": "https://localhost:8080/"
        },
        "id": "Et4CbHqKfEyv",
        "outputId": "dfb5c74e-2dcc-4caa-c11a-55c0508949a5"
      },
      "execution_count": 19,
      "outputs": [
        {
          "output_type": "stream",
          "name": "stdout",
          "text": [
            "Response: 200 for page: 1\n",
            "Response: 200 for page: 2\n",
            "Response: 200 for page: 3\n",
            "Response: 200 for page: 4\n",
            "Response: 200 for page: 5\n",
            "Response: 200 for page: 6\n",
            "Response: 200 for page: 7\n",
            "Response: 200 for page: 8\n",
            "Response: 200 for page: 9\n",
            "Response: 200 for page: 10\n",
            "Response: 200 for page: 11\n",
            "Response: 200 for page: 12\n",
            "Response: 200 for page: 13\n",
            "Response: 200 for page: 14\n",
            "Response: 200 for page: 15\n",
            "Response: 200 for page: 16\n",
            "Response: 200 for page: 17\n",
            "Response: 200 for page: 18\n",
            "Response: 200 for page: 19\n",
            "Response: 200 for page: 20\n"
          ]
        }
      ]
    },
    {
      "cell_type": "code",
      "source": [
        "df = pd.DataFrame(data={'name':name_total,\n",
        "                        'location':location_total,\n",
        "                        'rating':rating_total,\n",
        "                        'impression':impression_total,\n",
        "                        'price':price_total,\n",
        "                        'desc':description_total})"
      ],
      "metadata": {
        "id": "XrrvV8gYhSOv"
      },
      "execution_count": 16,
      "outputs": []
    },
    {
      "cell_type": "code",
      "source": [
        "df.head()"
      ],
      "metadata": {
        "colab": {
          "base_uri": "https://localhost:8080/",
          "height": 49
        },
        "id": "0tzib2yGhcY0",
        "outputId": "cd72ddf0-256e-4d1a-b79b-7bd5ec4834d1"
      },
      "execution_count": 17,
      "outputs": [
        {
          "output_type": "execute_result",
          "data": {
            "text/plain": [
              "Empty DataFrame\n",
              "Columns: [name, location, rating, impression, price, desc]\n",
              "Index: []"
            ],
            "text/html": [
              "\n",
              "  <div id=\"df-c13edb50-460f-4460-a9de-8c4519c08fca\">\n",
              "    <div class=\"colab-df-container\">\n",
              "      <div>\n",
              "<style scoped>\n",
              "    .dataframe tbody tr th:only-of-type {\n",
              "        vertical-align: middle;\n",
              "    }\n",
              "\n",
              "    .dataframe tbody tr th {\n",
              "        vertical-align: top;\n",
              "    }\n",
              "\n",
              "    .dataframe thead th {\n",
              "        text-align: right;\n",
              "    }\n",
              "</style>\n",
              "<table border=\"1\" class=\"dataframe\">\n",
              "  <thead>\n",
              "    <tr style=\"text-align: right;\">\n",
              "      <th></th>\n",
              "      <th>name</th>\n",
              "      <th>location</th>\n",
              "      <th>rating</th>\n",
              "      <th>impression</th>\n",
              "      <th>price</th>\n",
              "      <th>desc</th>\n",
              "    </tr>\n",
              "  </thead>\n",
              "  <tbody>\n",
              "  </tbody>\n",
              "</table>\n",
              "</div>\n",
              "      <button class=\"colab-df-convert\" onclick=\"convertToInteractive('df-c13edb50-460f-4460-a9de-8c4519c08fca')\"\n",
              "              title=\"Convert this dataframe to an interactive table.\"\n",
              "              style=\"display:none;\">\n",
              "        \n",
              "  <svg xmlns=\"http://www.w3.org/2000/svg\" height=\"24px\"viewBox=\"0 0 24 24\"\n",
              "       width=\"24px\">\n",
              "    <path d=\"M0 0h24v24H0V0z\" fill=\"none\"/>\n",
              "    <path d=\"M18.56 5.44l.94 2.06.94-2.06 2.06-.94-2.06-.94-.94-2.06-.94 2.06-2.06.94zm-11 1L8.5 8.5l.94-2.06 2.06-.94-2.06-.94L8.5 2.5l-.94 2.06-2.06.94zm10 10l.94 2.06.94-2.06 2.06-.94-2.06-.94-.94-2.06-.94 2.06-2.06.94z\"/><path d=\"M17.41 7.96l-1.37-1.37c-.4-.4-.92-.59-1.43-.59-.52 0-1.04.2-1.43.59L10.3 9.45l-7.72 7.72c-.78.78-.78 2.05 0 2.83L4 21.41c.39.39.9.59 1.41.59.51 0 1.02-.2 1.41-.59l7.78-7.78 2.81-2.81c.8-.78.8-2.07 0-2.86zM5.41 20L4 18.59l7.72-7.72 1.47 1.35L5.41 20z\"/>\n",
              "  </svg>\n",
              "      </button>\n",
              "      \n",
              "  <style>\n",
              "    .colab-df-container {\n",
              "      display:flex;\n",
              "      flex-wrap:wrap;\n",
              "      gap: 12px;\n",
              "    }\n",
              "\n",
              "    .colab-df-convert {\n",
              "      background-color: #E8F0FE;\n",
              "      border: none;\n",
              "      border-radius: 50%;\n",
              "      cursor: pointer;\n",
              "      display: none;\n",
              "      fill: #1967D2;\n",
              "      height: 32px;\n",
              "      padding: 0 0 0 0;\n",
              "      width: 32px;\n",
              "    }\n",
              "\n",
              "    .colab-df-convert:hover {\n",
              "      background-color: #E2EBFA;\n",
              "      box-shadow: 0px 1px 2px rgba(60, 64, 67, 0.3), 0px 1px 3px 1px rgba(60, 64, 67, 0.15);\n",
              "      fill: #174EA6;\n",
              "    }\n",
              "\n",
              "    [theme=dark] .colab-df-convert {\n",
              "      background-color: #3B4455;\n",
              "      fill: #D2E3FC;\n",
              "    }\n",
              "\n",
              "    [theme=dark] .colab-df-convert:hover {\n",
              "      background-color: #434B5C;\n",
              "      box-shadow: 0px 1px 3px 1px rgba(0, 0, 0, 0.15);\n",
              "      filter: drop-shadow(0px 1px 2px rgba(0, 0, 0, 0.3));\n",
              "      fill: #FFFFFF;\n",
              "    }\n",
              "  </style>\n",
              "\n",
              "      <script>\n",
              "        const buttonEl =\n",
              "          document.querySelector('#df-c13edb50-460f-4460-a9de-8c4519c08fca button.colab-df-convert');\n",
              "        buttonEl.style.display =\n",
              "          google.colab.kernel.accessAllowed ? 'block' : 'none';\n",
              "\n",
              "        async function convertToInteractive(key) {\n",
              "          const element = document.querySelector('#df-c13edb50-460f-4460-a9de-8c4519c08fca');\n",
              "          const dataTable =\n",
              "            await google.colab.kernel.invokeFunction('convertToInteractive',\n",
              "                                                     [key], {});\n",
              "          if (!dataTable) return;\n",
              "\n",
              "          const docLinkHtml = 'Like what you see? Visit the ' +\n",
              "            '<a target=\"_blank\" href=https://colab.research.google.com/notebooks/data_table.ipynb>data table notebook</a>'\n",
              "            + ' to learn more about interactive tables.';\n",
              "          element.innerHTML = '';\n",
              "          dataTable['output_type'] = 'display_data';\n",
              "          await google.colab.output.renderOutput(dataTable, element);\n",
              "          const docLink = document.createElement('div');\n",
              "          docLink.innerHTML = docLinkHtml;\n",
              "          element.appendChild(docLink);\n",
              "        }\n",
              "      </script>\n",
              "    </div>\n",
              "  </div>\n",
              "  "
            ]
          },
          "metadata": {},
          "execution_count": 17
        }
      ]
    },
    {
      "cell_type": "code",
      "source": [
        "df.to_excel('hotel_jogja_tiket_com.xlsx')"
      ],
      "metadata": {
        "id": "ehff484whW-H"
      },
      "execution_count": 14,
      "outputs": []
    }
  ]
}